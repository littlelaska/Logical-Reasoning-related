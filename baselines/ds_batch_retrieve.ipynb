{
 "cells": [
  {
   "cell_type": "code",
   "execution_count": 1,
   "metadata": {},
   "outputs": [],
   "source": [
    "from openai import OpenAI\n",
    "import json\n",
    "import argparse\n",
    "import os"
   ]
  },
  {
   "cell_type": "code",
   "execution_count": 2,
   "metadata": {},
   "outputs": [],
   "source": [
    "# cahtgpt的key\n",
    "api_key = \"sk-zk26412de2dfff2bdb77219a8672f53b2fd6846957e063af\"\n",
    "base_url = \"https://api.zhizengzeng.com/v1\"\n",
    "# ds的 key\n",
    "api_key = \"sk-umzuhgrnvqjzsyagbkxnruljvrxtiqepwjejknkedamfcjsi\"\n",
    "base_url = \"https://api.siliconflow.cn/v1\""
   ]
  },
  {
   "cell_type": "code",
   "execution_count": 4,
   "metadata": {},
   "outputs": [],
   "source": [
    "client = OpenAI(base_url=base_url, api_key=api_key)"
   ]
  },
  {
   "cell_type": "code",
   "execution_count": 10,
   "metadata": {},
   "outputs": [
    {
     "name": "stdout",
     "output_type": "stream",
     "text": [
      "[Batch(id='batch_qaqdaaosvn', completion_window='24h', created_at=1760881487, endpoint='/v1/chat/completions', input_file_id='file-tx7mdthoydl1yri', object='batch', status='in_queue', cancelled_at=None, cancelling_at=None, completed_at=None, error_file_id=None, errors=None, expired_at=None, expires_at=1760967887, failed_at=None, finalizing_at=None, in_progress_at=None, metadata={'description': 'batch test job'}, output_file_id=None, request_counts=None, file_name='dev_CoT.jsonl'), Batch(id='batch_kfrhjzmtvm', completion_window='24h', created_at=1760880116, endpoint='/v1/chat/completions', input_file_id='file-v3vvpc25na48ytb', object='batch', status='cancelling', cancelled_at=None, cancelling_at=1760880847, completed_at=None, error_file_id=None, errors=None, expired_at=None, expires_at=1760966516, failed_at=None, finalizing_at=None, in_progress_at=None, metadata={'description': 'batch test job'}, output_file_id=None, request_counts=None, file_name='dev_CoT.jsonl'), Batch(id='batch_mtpafyuhiz', completion_window='24h', created_at=1759396144, endpoint='/v1/chat/completions', input_file_id='file-qrnfd2wjke1f65t', object='batch', status='completed', cancelled_at=None, cancelling_at=None, completed_at=1759397015, error_file_id=None, errors=None, expired_at=None, expires_at=1759482544, failed_at=None, finalizing_at=1759397015, in_progress_at=1759396144, metadata={'description': 'batch test job'}, output_file_id='https://sf-maas-uat-prod.oss-cn-shanghai.aliyuncs.com/output/batch_KpweTFvOXWCTOEzQEujXVjHjrEXSaSyL.jsonl', request_counts=BatchRequestCounts(completed=230, failed=0, total=230), file_name='test_Direct.jsonl'), Batch(id='batch_cqagarymao', completion_window='24h', created_at=1759329214, endpoint='/v1/chat/completions', input_file_id='file-jdg516d3hllsi5o', object='batch', status='completed', cancelled_at=None, cancelling_at=None, completed_at=1759330018, error_file_id=None, errors=None, expired_at=None, expires_at=1759415614, failed_at=None, finalizing_at=1759330018, in_progress_at=1759329214, metadata={'description': 'batch test job'}, output_file_id='https://sf-maas-uat-prod.oss-cn-shanghai.aliyuncs.com/output/batch_EjUWYrMyLEBQvXKJgFvCiTeiOIGmBMyy.jsonl', request_counts=BatchRequestCounts(completed=231, failed=0, total=231), file_name='dev_Direct.jsonl'), Batch(id='batch_mslmvpdxjn', completion_window='24h', created_at=1759329106, endpoint='/v1/chat/completions', input_file_id='file-rt1rmqk658bsxee', object='batch', status='completed', cancelled_at=None, cancelling_at=None, completed_at=1759329441, error_file_id=None, errors=None, expired_at=None, expires_at=1759415506, failed_at=None, finalizing_at=1759329441, in_progress_at=1759329106, metadata={'description': 'batch test job'}, output_file_id='https://sf-maas-uat-prod.oss-cn-shanghai.aliyuncs.com/output/batch_ThFsDnStvMVHVyYUAQYoteKKHSxOWhDF.jsonl', request_counts=BatchRequestCounts(completed=204, failed=0, total=204), file_name='dev_CoT.jsonl'), Batch(id='batch_utdvesegky', completion_window='24h', created_at=1759329082, endpoint='/v1/chat/completions', input_file_id='file-flunnlm23xzgjpq', object='batch', status='completed', cancelled_at=None, cancelling_at=None, completed_at=1759329326, error_file_id=None, errors=None, expired_at=None, expires_at=1759415482, failed_at=None, finalizing_at=1759329326, in_progress_at=1759329082, metadata={'description': 'batch test job'}, output_file_id='https://sf-maas-uat-prod.oss-cn-shanghai.aliyuncs.com/output/batch_hfmNgSHBNXrnuKCgRpWAEzvNZHUdwsKb.jsonl', request_counts=BatchRequestCounts(completed=204, failed=0, total=204), file_name='dev_Direct.jsonl'), Batch(id='batch_jjmhzfaswm', completion_window='24h', created_at=1759328840, endpoint='/v1/chat/completions', input_file_id='file-rea1m460ed1mchy', object='batch', status='completed', cancelled_at=None, cancelling_at=None, completed_at=1759328896, error_file_id=None, errors=None, expired_at=None, expires_at=1759415240, failed_at=None, finalizing_at=1759328896, in_progress_at=1759328840, metadata={'description': 'batch test job'}, output_file_id='https://sf-maas-uat-prod.oss-cn-shanghai.aliyuncs.com/output/batch_IhMqPjgyvRfDgCUNHQpXMYIzkbNbxYPF.jsonl', request_counts=BatchRequestCounts(completed=1, failed=0, total=1), file_name='dev_Direct.jsonl'), Batch(id='batch_jgjurbntly', completion_window='24h', created_at=1759328767, endpoint='/v1/chat/completions', input_file_id='file-0ru5tokiwpjqu34', object='batch', status='completed', cancelled_at=None, cancelling_at=None, completed_at=1759328873, error_file_id=None, errors=None, expired_at=None, expires_at=1759415167, failed_at=None, finalizing_at=1759328873, in_progress_at=1759328767, metadata={'description': 'batch test job'}, output_file_id='https://sf-maas-uat-prod.oss-cn-shanghai.aliyuncs.com/output/batch_SZIWkRRBtEfUrczwsjgFLmxfIGjfnoDR.jsonl', request_counts=BatchRequestCounts(completed=1, failed=0, total=1), file_name='dev_Direct.jsonl'), Batch(id='batch_nbcjhxkzmc', completion_window='24h', created_at=1759327827, endpoint='/v1/chat/completions', input_file_id='file-a0evvcyjpki0um6', object='batch', status='completed', cancelled_at=None, cancelling_at=None, completed_at=1759327961, error_file_id=None, errors=None, expired_at=None, expires_at=1759414227, failed_at=None, finalizing_at=1759327961, in_progress_at=1759327827, metadata={'description': 'batch test job'}, output_file_id='https://sf-maas-uat-prod.oss-cn-shanghai.aliyuncs.com/output/batch_cVccTuNcFwbrjPubqlHSlFgPCYQNLhhF.jsonl', request_counts=BatchRequestCounts(completed=1, failed=0, total=1), file_name='dev_Direct.jsonl'), Batch(id='batch_kznorddtjt', completion_window='24h', created_at=1759224170, endpoint='/v1/chat/completions', input_file_id='file-xxpt4wza6fojy5n', object='batch', status='completed', cancelled_at=None, cancelling_at=None, completed_at=1759224537, error_file_id=None, errors=None, expired_at=None, expires_at=1759310570, failed_at=None, finalizing_at=1759224536, in_progress_at=1759224170, metadata={'description': 'batch test job'}, output_file_id='https://sf-maas-uat-prod.oss-cn-shanghai.aliyuncs.com/output/batch_nQsohYqXooEqkLdGNQRtWasokeDUJVNE.jsonl', request_counts=BatchRequestCounts(completed=500, failed=0, total=500), file_name='dev_CoT.jsonl'), Batch(id='batch_ykwgzvhkaf', completion_window='24h', created_at=1759224143, endpoint='/v1/chat/completions', input_file_id='file-a16rmsv9371tzd4', object='batch', status='completed', cancelled_at=None, cancelling_at=None, completed_at=1759224174, error_file_id=None, errors=None, expired_at=None, expires_at=1759310543, failed_at=None, finalizing_at=1759224174, in_progress_at=1759224143, metadata={'description': 'batch test job'}, output_file_id='https://sf-maas-uat-prod.oss-cn-shanghai.aliyuncs.com/output/batch_qEuNFTyzOzLayQLqPGJuUKcuVIuJpigR.jsonl', request_counts=BatchRequestCounts(completed=1, failed=0, total=1), file_name='dev_CoT.jsonl'), Batch(id='batch_waafpgwasf', completion_window='24h', created_at=1759223876, endpoint='/v1/chat/completions', input_file_id='file-37412roqnbtxnsh', object='batch', status='completed', cancelled_at=None, cancelling_at=None, completed_at=1759223893, error_file_id=None, errors=None, expired_at=None, expires_at=1759310276, failed_at=None, finalizing_at=1759223893, in_progress_at=1759223876, metadata={'description': 'batch test job'}, output_file_id='https://sf-maas-uat-prod.oss-cn-shanghai.aliyuncs.com/output/batch_DkiywFROuMFWnFELykIpUyOBqPRdwFZH.jsonl', request_counts=BatchRequestCounts(completed=1, failed=0, total=1), file_name='dev_CoT.jsonl'), Batch(id='batch_bwxjjikeog', completion_window='24h', created_at=1759223795, endpoint='/v1/chat/completions', input_file_id='file-orju7p7fhbd6w5e', object='batch', status='completed', cancelled_at=None, cancelling_at=None, completed_at=1759223808, error_file_id=None, errors=None, expired_at=None, expires_at=1759310195, failed_at=None, finalizing_at=1759223808, in_progress_at=1759223795, metadata={'description': 'batch test job'}, output_file_id='https://sf-maas-uat-prod.oss-cn-shanghai.aliyuncs.com/output/batch_SrIQUODaWFikFBsfrvTAwGJxpfjtxyGp.jsonl', request_counts=BatchRequestCounts(completed=1, failed=0, total=1), file_name='dev_CoT.jsonl'), Batch(id='batch_hmqgmxqowb', completion_window='24h', created_at=1759223772, endpoint='/v1/chat/completions', input_file_id='file-kjtuq69sh51jv5m', object='batch', status='completed', cancelled_at=None, cancelling_at=None, completed_at=1759223793, error_file_id=None, errors=None, expired_at=None, expires_at=1759310172, failed_at=None, finalizing_at=1759223793, in_progress_at=1759223772, metadata={'description': 'batch test job'}, output_file_id='https://sf-maas-uat-prod.oss-cn-shanghai.aliyuncs.com/output/batch_oGKXQNPARiAoKmbFQYpPeQGmRsvPlMPC.jsonl', request_counts=BatchRequestCounts(completed=1, failed=0, total=1), file_name='dev_CoT.jsonl'), Batch(id='batch_kutknyhwth', completion_window='24h', created_at=1759223656, endpoint='/v1/chat/completions', input_file_id='file-ru503zxf95tjo1y', object='batch', status='completed', cancelled_at=None, cancelling_at=None, completed_at=1759223724, error_file_id=None, errors=None, expired_at=None, expires_at=1759310056, failed_at=None, finalizing_at=1759223724, in_progress_at=1759223656, metadata={'description': 'batch test job'}, output_file_id='https://sf-maas-uat-prod.oss-cn-shanghai.aliyuncs.com/output/batch_SfLcakxSRAjtMVapSxEtPGoSHXcJIWQO.jsonl', request_counts=BatchRequestCounts(completed=1, failed=0, total=1), file_name='dev_CoT.jsonl'), Batch(id='batch_fnwgekjddq', completion_window='24h', created_at=1759223508, endpoint='/v1/chat/completions', input_file_id='file-lxydk7l2jp6rgf2', object='batch', status='completed', cancelled_at=None, cancelling_at=None, completed_at=1759223535, error_file_id=None, errors=None, expired_at=None, expires_at=1759309908, failed_at=None, finalizing_at=1759223535, in_progress_at=1759223508, metadata={'description': 'batch test job'}, output_file_id='https://sf-maas-uat-prod.oss-cn-shanghai.aliyuncs.com/output/batch_ssTbyeMNXxPCJbOZqXMNcYgKnMTbSWYo.jsonl', request_counts=BatchRequestCounts(completed=1, failed=0, total=1), file_name='dev_CoT.jsonl'), Batch(id='batch_jfwaonmvjz', completion_window='24h', created_at=1759223228, endpoint='/v1/chat/completions', input_file_id='file-1qjm944sqfv97m1', object='batch', status='cancelled', cancelled_at=1759223530, cancelling_at=1759223425, completed_at=1759223530, error_file_id=None, errors=None, expired_at=None, expires_at=1759309628, failed_at=None, finalizing_at=1759223530, in_progress_at=1759223228, metadata={'description': 'batch test job'}, output_file_id='https://sf-maas-uat-prod.oss-cn-shanghai.aliyuncs.com/output/batch_SoiRPsStdShYgeHFJHgWXHKZzwlUMGNc.jsonl', request_counts=BatchRequestCounts(completed=500, failed=0, total=500), file_name='dev.jsonl'), Batch(id='batch_zaezjhrmbo', completion_window='24h', created_at=1759223068, endpoint='/v1/chat/completions', input_file_id='file-tllq5m9uahotgb9', object='batch', status='cancelled', cancelled_at=1759223430, cancelling_at=1759223415, completed_at=1759223430, error_file_id=None, errors=None, expired_at=None, expires_at=1759309468, failed_at=None, finalizing_at=1759223430, in_progress_at=1759223068, metadata={'description': 'batch test job'}, output_file_id='https://sf-maas-uat-prod.oss-cn-shanghai.aliyuncs.com/output/batch_mcodZzrFPKnlRTZPwpSSFOcALeLcRHxH.jsonl', request_counts=BatchRequestCounts(completed=500, failed=0, total=500), file_name='dev.jsonl'), Batch(id='batch_gtsrocodxk', completion_window='24h', created_at=1759205266, endpoint='/v1/chat/completions', input_file_id='file-uxonablttirs0u8', object='batch', status='completed', cancelled_at=None, cancelling_at=None, completed_at=1759205592, error_file_id=None, errors=None, expired_at=None, expires_at=1759291666, failed_at=None, finalizing_at=1759205591, in_progress_at=1759205266, metadata={'description': 'batch test job'}, output_file_id='https://sf-maas-uat-prod.oss-cn-shanghai.aliyuncs.com/output/batch_jqYNzjeWZqhysgZWEczCsrJDlamEJxLS.jsonl', request_counts=BatchRequestCounts(completed=500, failed=0, total=500), file_name='dev.jsonl'), Batch(id='batch_naakrgmfmo', completion_window='24h', created_at=1759205135, endpoint='/v1/chat/completions', input_file_id='file-ri8c53dj1m95agp', object='batch', status='completed', cancelled_at=None, cancelling_at=None, completed_at=1759205147, error_file_id=None, errors=None, expired_at=None, expires_at=1759291535, failed_at=None, finalizing_at=1759205147, in_progress_at=1759205135, metadata={'description': 'batch test job'}, output_file_id='https://sf-maas-uat-prod.oss-cn-shanghai.aliyuncs.com/output/batch_GhIVqEiMoarfCgmBKFUKMonsBhRROpsv.jsonl', request_counts=BatchRequestCounts(completed=1, failed=0, total=1), file_name='dev.jsonl'), Batch(id='batch_nhxwvnpzst', completion_window='24h', created_at=1759205080, endpoint='/v1/chat/completions', input_file_id='file-sze29fqinx2nz3q', object='batch', status='completed', cancelled_at=None, cancelling_at=None, completed_at=1759205138, error_file_id=None, errors=None, expired_at=None, expires_at=1759291480, failed_at=None, finalizing_at=1759205138, in_progress_at=1759205080, metadata={'description': 'batch test job'}, output_file_id='https://sf-maas-uat-prod.oss-cn-shanghai.aliyuncs.com/output/batch_zNrPAuIbGfDWyIvTbuYdepgseLTcKueW.jsonl', request_counts=BatchRequestCounts(completed=1, failed=0, total=1), file_name='dev.jsonl'), Batch(id='batch_aztjifwwzu', completion_window='24h', created_at=1759204867, endpoint='/v1/chat/completions', input_file_id='file-qkm8bppn55mglsp', object='batch', status='completed', cancelled_at=None, cancelling_at=None, completed_at=1759204894, error_file_id=None, errors=None, expired_at=None, expires_at=1759291267, failed_at=None, finalizing_at=1759204894, in_progress_at=1759204867, metadata={'description': 'batch test job'}, output_file_id='https://sf-maas-uat-prod.oss-cn-shanghai.aliyuncs.com/output/batch_oakEhzJbzwSmjYXqiDTlNIrNNpqTKoee.jsonl', request_counts=BatchRequestCounts(completed=1, failed=0, total=1), file_name='dev.jsonl'), Batch(id='batch_iayidktfwa', completion_window='24h', created_at=1759204762, endpoint='/v1/chat/completions', input_file_id='file-n5ovzgrrxdiqvhh', object='batch', status='completed', cancelled_at=None, cancelling_at=None, completed_at=1759204801, error_file_id=None, errors=None, expired_at=None, expires_at=1759291162, failed_at=None, finalizing_at=1759204801, in_progress_at=1759204762, metadata={'description': 'batch test job'}, output_file_id='https://sf-maas-uat-prod.oss-cn-shanghai.aliyuncs.com/output/batch_ubAwvWBMmDihqObqCtgHOMXckgoUzGSB.jsonl', request_counts=BatchRequestCounts(completed=1, failed=0, total=1), file_name='dev.jsonl'), Batch(id='batch_fjuorqxiih', completion_window='24h', created_at=1759204706, endpoint='/v1/chat/completions', input_file_id='file-ub46v5ycuh1p2we', object='batch', status='completed', cancelled_at=None, cancelling_at=None, completed_at=1759204720, error_file_id=None, errors=None, expired_at=None, expires_at=1759291106, failed_at=None, finalizing_at=1759204720, in_progress_at=1759204706, metadata={'description': 'batch test job'}, output_file_id='https://sf-maas-uat-prod.oss-cn-shanghai.aliyuncs.com/output/batch_uFxCKPoghFDCAIOBDikIOkUvdtWVGLOR.jsonl', request_counts=BatchRequestCounts(completed=1, failed=0, total=1), file_name='dev.jsonl'), Batch(id='batch_joacupnsxf', completion_window='24h', created_at=1759204681, endpoint='/v1/chat/completions', input_file_id='file-ubpeajgq7e26nhl', object='batch', status='completed', cancelled_at=None, cancelling_at=None, completed_at=1759204695, error_file_id=None, errors=None, expired_at=None, expires_at=1759291081, failed_at=None, finalizing_at=1759204695, in_progress_at=1759204681, metadata={'description': 'batch test job'}, output_file_id='https://sf-maas-uat-prod.oss-cn-shanghai.aliyuncs.com/output/batch_qkOmhBLZWxmqtihKacAbWcKDzHSIlnBM.jsonl', request_counts=BatchRequestCounts(completed=1, failed=0, total=1), file_name='dev.jsonl'), Batch(id='batch_xtkkqntzmo', completion_window='24h', created_at=1759203498, endpoint='/v1/chat/completions', input_file_id='file-z9xv0uhhwb7u56s', object='batch', status='completed', cancelled_at=None, cancelling_at=None, completed_at=1759203515, error_file_id=None, errors=None, expired_at=None, expires_at=1759289898, failed_at=None, finalizing_at=1759203515, in_progress_at=1759203498, metadata={'description': 'batch test job'}, output_file_id='https://sf-maas-uat-prod.oss-cn-shanghai.aliyuncs.com/output/batch_yiHMspQttZMvFwhbUwAAdjujiitEajDr.jsonl', request_counts=BatchRequestCounts(completed=1, failed=0, total=1), file_name='dev.jsonl'), Batch(id='batch_lfakwevfuj', completion_window='24h', created_at=1759201453, endpoint='/v1/chat/completions', input_file_id='file-t3yviw7o6menpnz', object='batch', status='completed', cancelled_at=None, cancelling_at=None, completed_at=1759201460, error_file_id=None, errors=None, expired_at=None, expires_at=1759287853, failed_at=None, finalizing_at=1759201460, in_progress_at=1759201453, metadata={'description': 'batch test job'}, output_file_id='https://sf-maas-uat-prod.oss-cn-shanghai.aliyuncs.com/output/batch_SCEAbYnbKadDxSYXDBThRVmIVPjFXSeu.jsonl', request_counts=BatchRequestCounts(completed=1, failed=0, total=1), file_name='dev.jsonl'), Batch(id='batch_eiubbcllot', completion_window='24h', created_at=1759139532, endpoint='/v1/chat/completions', input_file_id='file-38z36i84hrd2hrs', object='batch', status='completed', cancelled_at=None, cancelling_at=None, completed_at=1759139536, error_file_id=None, errors=None, expired_at=None, expires_at=1759225932, failed_at=None, finalizing_at=1759139536, in_progress_at=1759139532, metadata={'description': 'batch test job'}, output_file_id='https://sf-maas-uat-prod.oss-cn-shanghai.aliyuncs.com/output/batch_RoGTQPLlLkIoBchyGKefYYvNaTjzHnjJ.jsonl', request_counts=BatchRequestCounts(completed=1, failed=0, total=1), file_name='dev.jsonl')]\n"
     ]
    }
   ],
   "source": [
    "# 获取批量处理任务列表\n",
    "batch_task_list = client.batches.list().data\n",
    "print(batch_task_list)\n"
   ]
  },
  {
   "cell_type": "code",
   "execution_count": null,
   "metadata": {},
   "outputs": [],
   "source": []
  },
  {
   "cell_type": "code",
   "execution_count": 16,
   "metadata": {},
   "outputs": [
    {
     "name": "stdout",
     "output_type": "stream",
     "text": [
      "Batch(id='batch_cjjgiwhimd', completion_window='24h', created_at=1760945531, endpoint='/v1/chat/completions', input_file_id='file-p93u0wk8rw2phqn', object='batch', status='completed', cancelled_at=None, cancelling_at=None, completed_at=1760945687, error_file_id=None, errors=None, expired_at=None, expires_at=1761031931, failed_at=None, finalizing_at=1760945687, in_progress_at=1760945531, metadata={'description': 'batch test job'}, output_file_id='https://sf-maas-uat-prod.oss-cn-shanghai.aliyuncs.com/output/batch_iMVuoszypIAiPIeGqKyBUvgPpHtjXKYF.jsonl', request_counts=BatchRequestCounts(completed=500, failed=0, total=500), file_name='dev_CoT.jsonl')\n"
     ]
    }
   ],
   "source": [
    "# 查看某个任务的状态和结果\n",
    "file_id = \"batch_cjjgiwhimd\"\n",
    "file_status = client.batches.retrieve(file_id)\n",
    "print(file_status)"
   ]
  },
  {
   "cell_type": "code",
   "execution_count": 13,
   "metadata": {},
   "outputs": [
    {
     "data": {
      "text/plain": [
       "Batch(id='batch_qaqdaaosvn', completion_window='24h', created_at=1760881487, endpoint='/v1/chat/completions', input_file_id='file-tx7mdthoydl1yri', object='batch', status='cancelling', cancelled_at=None, cancelling_at=1760890527, completed_at=None, error_file_id=None, errors=None, expired_at=None, expires_at=1760967887, failed_at=None, finalizing_at=None, in_progress_at=None, metadata={'description': 'batch test job'}, output_file_id=None, request_counts=None, file_name='dev_CoT.jsonl')"
      ]
     },
     "execution_count": 13,
     "metadata": {},
     "output_type": "execute_result"
    }
   ],
   "source": [
    "#   取消任务\n",
    "client.batches.cancel(\"batch_qaqdaaosvn\")"
   ]
  },
  {
   "cell_type": "code",
   "execution_count": null,
   "metadata": {},
   "outputs": [],
   "source": []
  }
 ],
 "metadata": {
  "kernelspec": {
   "display_name": "symbCOT",
   "language": "python",
   "name": "python3"
  },
  "language_info": {
   "codemirror_mode": {
    "name": "ipython",
    "version": 3
   },
   "file_extension": ".py",
   "mimetype": "text/x-python",
   "name": "python",
   "nbconvert_exporter": "python",
   "pygments_lexer": "ipython3",
   "version": "3.11.11"
  },
  "orig_nbformat": 4
 },
 "nbformat": 4,
 "nbformat_minor": 2
}
